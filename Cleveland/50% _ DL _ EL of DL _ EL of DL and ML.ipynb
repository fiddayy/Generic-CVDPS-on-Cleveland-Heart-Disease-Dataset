{
 "cells": [
  {
   "cell_type": "code",
   "execution_count": 1,
   "id": "695611ba",
   "metadata": {},
   "outputs": [],
   "source": [
    "import numpy as np\n",
    "import pandas as pd\n",
    "from sklearn.model_selection import train_test_split\n",
    "from sklearn.metrics import confusion_matrix, classification_report, accuracy_score\n",
    "from tensorflow.keras.models import Sequential\n",
    "from tensorflow.keras.layers import Conv1D, MaxPooling1D, Flatten, Dense, Dropout, BatchNormalization, LSTM, GRU\n",
    "from sklearn.utils import resample\n",
    "from sklearn.ensemble import VotingClassifier\n",
    "from sklearn.preprocessing import StandardScaler\n",
    "import numpy as np\n",
    "from sklearn.model_selection import train_test_split\n",
    "from sklearn.preprocessing import StandardScaler\n",
    "from tensorflow import keras\n",
    "from tensorflow.keras import layers\n",
    "from tensorflow.keras.preprocessing.image import ImageDataGenerator\n"
   ]
  },
  {
   "cell_type": "code",
   "execution_count": 2,
   "id": "c0726aa0",
   "metadata": {},
   "outputs": [
    {
     "data": {
      "text/html": [
       "<div>\n",
       "<style scoped>\n",
       "    .dataframe tbody tr th:only-of-type {\n",
       "        vertical-align: middle;\n",
       "    }\n",
       "\n",
       "    .dataframe tbody tr th {\n",
       "        vertical-align: top;\n",
       "    }\n",
       "\n",
       "    .dataframe thead th {\n",
       "        text-align: right;\n",
       "    }\n",
       "</style>\n",
       "<table border=\"1\" class=\"dataframe\">\n",
       "  <thead>\n",
       "    <tr style=\"text-align: right;\">\n",
       "      <th></th>\n",
       "      <th>age</th>\n",
       "      <th>sex</th>\n",
       "      <th>cp</th>\n",
       "      <th>trestbps</th>\n",
       "      <th>chol</th>\n",
       "      <th>fbs</th>\n",
       "      <th>restecg</th>\n",
       "      <th>thalach</th>\n",
       "      <th>exang</th>\n",
       "      <th>oldpeak</th>\n",
       "      <th>slope</th>\n",
       "      <th>ca</th>\n",
       "      <th>thal</th>\n",
       "      <th>target</th>\n",
       "    </tr>\n",
       "  </thead>\n",
       "  <tbody>\n",
       "    <tr>\n",
       "      <th>0</th>\n",
       "      <td>63</td>\n",
       "      <td>1</td>\n",
       "      <td>1</td>\n",
       "      <td>145</td>\n",
       "      <td>233</td>\n",
       "      <td>1</td>\n",
       "      <td>2</td>\n",
       "      <td>150</td>\n",
       "      <td>0</td>\n",
       "      <td>2.3</td>\n",
       "      <td>3</td>\n",
       "      <td>0</td>\n",
       "      <td>6</td>\n",
       "      <td>0</td>\n",
       "    </tr>\n",
       "    <tr>\n",
       "      <th>1</th>\n",
       "      <td>67</td>\n",
       "      <td>1</td>\n",
       "      <td>4</td>\n",
       "      <td>160</td>\n",
       "      <td>286</td>\n",
       "      <td>0</td>\n",
       "      <td>2</td>\n",
       "      <td>108</td>\n",
       "      <td>1</td>\n",
       "      <td>1.5</td>\n",
       "      <td>2</td>\n",
       "      <td>3</td>\n",
       "      <td>3</td>\n",
       "      <td>2</td>\n",
       "    </tr>\n",
       "    <tr>\n",
       "      <th>2</th>\n",
       "      <td>67</td>\n",
       "      <td>1</td>\n",
       "      <td>4</td>\n",
       "      <td>120</td>\n",
       "      <td>229</td>\n",
       "      <td>0</td>\n",
       "      <td>2</td>\n",
       "      <td>129</td>\n",
       "      <td>1</td>\n",
       "      <td>2.6</td>\n",
       "      <td>2</td>\n",
       "      <td>2</td>\n",
       "      <td>7</td>\n",
       "      <td>1</td>\n",
       "    </tr>\n",
       "    <tr>\n",
       "      <th>3</th>\n",
       "      <td>37</td>\n",
       "      <td>1</td>\n",
       "      <td>3</td>\n",
       "      <td>130</td>\n",
       "      <td>250</td>\n",
       "      <td>0</td>\n",
       "      <td>0</td>\n",
       "      <td>187</td>\n",
       "      <td>0</td>\n",
       "      <td>3.5</td>\n",
       "      <td>3</td>\n",
       "      <td>0</td>\n",
       "      <td>3</td>\n",
       "      <td>0</td>\n",
       "    </tr>\n",
       "    <tr>\n",
       "      <th>4</th>\n",
       "      <td>41</td>\n",
       "      <td>0</td>\n",
       "      <td>2</td>\n",
       "      <td>130</td>\n",
       "      <td>204</td>\n",
       "      <td>0</td>\n",
       "      <td>2</td>\n",
       "      <td>172</td>\n",
       "      <td>0</td>\n",
       "      <td>1.4</td>\n",
       "      <td>1</td>\n",
       "      <td>0</td>\n",
       "      <td>3</td>\n",
       "      <td>0</td>\n",
       "    </tr>\n",
       "    <tr>\n",
       "      <th>...</th>\n",
       "      <td>...</td>\n",
       "      <td>...</td>\n",
       "      <td>...</td>\n",
       "      <td>...</td>\n",
       "      <td>...</td>\n",
       "      <td>...</td>\n",
       "      <td>...</td>\n",
       "      <td>...</td>\n",
       "      <td>...</td>\n",
       "      <td>...</td>\n",
       "      <td>...</td>\n",
       "      <td>...</td>\n",
       "      <td>...</td>\n",
       "      <td>...</td>\n",
       "    </tr>\n",
       "    <tr>\n",
       "      <th>292</th>\n",
       "      <td>57</td>\n",
       "      <td>0</td>\n",
       "      <td>4</td>\n",
       "      <td>140</td>\n",
       "      <td>241</td>\n",
       "      <td>0</td>\n",
       "      <td>0</td>\n",
       "      <td>123</td>\n",
       "      <td>1</td>\n",
       "      <td>0.2</td>\n",
       "      <td>2</td>\n",
       "      <td>0</td>\n",
       "      <td>7</td>\n",
       "      <td>1</td>\n",
       "    </tr>\n",
       "    <tr>\n",
       "      <th>293</th>\n",
       "      <td>45</td>\n",
       "      <td>1</td>\n",
       "      <td>1</td>\n",
       "      <td>110</td>\n",
       "      <td>264</td>\n",
       "      <td>0</td>\n",
       "      <td>0</td>\n",
       "      <td>132</td>\n",
       "      <td>0</td>\n",
       "      <td>1.2</td>\n",
       "      <td>2</td>\n",
       "      <td>0</td>\n",
       "      <td>7</td>\n",
       "      <td>1</td>\n",
       "    </tr>\n",
       "    <tr>\n",
       "      <th>294</th>\n",
       "      <td>68</td>\n",
       "      <td>1</td>\n",
       "      <td>4</td>\n",
       "      <td>144</td>\n",
       "      <td>193</td>\n",
       "      <td>1</td>\n",
       "      <td>0</td>\n",
       "      <td>141</td>\n",
       "      <td>0</td>\n",
       "      <td>3.4</td>\n",
       "      <td>2</td>\n",
       "      <td>2</td>\n",
       "      <td>7</td>\n",
       "      <td>2</td>\n",
       "    </tr>\n",
       "    <tr>\n",
       "      <th>295</th>\n",
       "      <td>57</td>\n",
       "      <td>1</td>\n",
       "      <td>4</td>\n",
       "      <td>130</td>\n",
       "      <td>131</td>\n",
       "      <td>0</td>\n",
       "      <td>0</td>\n",
       "      <td>115</td>\n",
       "      <td>1</td>\n",
       "      <td>1.2</td>\n",
       "      <td>2</td>\n",
       "      <td>1</td>\n",
       "      <td>7</td>\n",
       "      <td>3</td>\n",
       "    </tr>\n",
       "    <tr>\n",
       "      <th>296</th>\n",
       "      <td>57</td>\n",
       "      <td>0</td>\n",
       "      <td>2</td>\n",
       "      <td>130</td>\n",
       "      <td>236</td>\n",
       "      <td>0</td>\n",
       "      <td>2</td>\n",
       "      <td>174</td>\n",
       "      <td>0</td>\n",
       "      <td>0.0</td>\n",
       "      <td>2</td>\n",
       "      <td>1</td>\n",
       "      <td>3</td>\n",
       "      <td>1</td>\n",
       "    </tr>\n",
       "  </tbody>\n",
       "</table>\n",
       "<p>297 rows × 14 columns</p>\n",
       "</div>"
      ],
      "text/plain": [
       "     age  sex  cp  trestbps  chol  fbs  restecg  thalach  exang  oldpeak  \\\n",
       "0     63    1   1       145   233    1        2      150      0      2.3   \n",
       "1     67    1   4       160   286    0        2      108      1      1.5   \n",
       "2     67    1   4       120   229    0        2      129      1      2.6   \n",
       "3     37    1   3       130   250    0        0      187      0      3.5   \n",
       "4     41    0   2       130   204    0        2      172      0      1.4   \n",
       "..   ...  ...  ..       ...   ...  ...      ...      ...    ...      ...   \n",
       "292   57    0   4       140   241    0        0      123      1      0.2   \n",
       "293   45    1   1       110   264    0        0      132      0      1.2   \n",
       "294   68    1   4       144   193    1        0      141      0      3.4   \n",
       "295   57    1   4       130   131    0        0      115      1      1.2   \n",
       "296   57    0   2       130   236    0        2      174      0      0.0   \n",
       "\n",
       "     slope  ca  thal  target  \n",
       "0        3   0     6       0  \n",
       "1        2   3     3       2  \n",
       "2        2   2     7       1  \n",
       "3        3   0     3       0  \n",
       "4        1   0     3       0  \n",
       "..     ...  ..   ...     ...  \n",
       "292      2   0     7       1  \n",
       "293      2   0     7       1  \n",
       "294      2   2     7       2  \n",
       "295      2   1     7       3  \n",
       "296      2   1     3       1  \n",
       "\n",
       "[297 rows x 14 columns]"
      ]
     },
     "execution_count": 2,
     "metadata": {},
     "output_type": "execute_result"
    }
   ],
   "source": [
    "# Load the dataset\n",
    "df = pd.read_csv('cleveland297.csv', header = None)\n",
    "\n",
    "df.columns = ['age', 'sex', 'cp', 'trestbps', 'chol',\n",
    "              'fbs', 'restecg', 'thalach', 'exang', \n",
    "              'oldpeak', 'slope', 'ca', 'thal', 'target']\n",
    "\n",
    "df"
   ]
  },
  {
   "cell_type": "code",
   "execution_count": 3,
   "id": "866dea3e",
   "metadata": {},
   "outputs": [],
   "source": [
    "### 1 = male, 0 = female\n",
    "df.isnull().sum()\n",
    "\n",
    "df['target'] = df.target.map({0: 0, 1: 1, 2: 1, 3: 1, 4: 1})\n",
    "df['sex'] = df.sex.map({0: 'female', 1: 'male'})\n",
    "df['thal'] = df.thal.fillna(df.thal.mean())\n",
    "df['ca'] = df.ca.fillna(df.ca.mean())\n",
    "df['sex'] = df.sex.map({'female': 0, 'male': 1})"
   ]
  },
  {
   "cell_type": "code",
   "execution_count": 4,
   "id": "0d384370",
   "metadata": {},
   "outputs": [],
   "source": [
    "# Separate features and target variable\n",
    "X = df.drop('target', axis=1)\n",
    "y = df['target']\n"
   ]
  },
  {
   "cell_type": "code",
   "execution_count": 5,
   "id": "88e05c02",
   "metadata": {},
   "outputs": [],
   "source": [
    "\n",
    "# 1. Load and preprocess the data\n",
    "# Assuming you have your data in the X and y variables\n",
    "\n",
    "# Split the data into training and testing sets\n",
    "X_train, X_test, y_train, y_test = train_test_split(X, y, test_size=0.5, random_state=42)\n",
    "\n",
    "# Standardize the features\n",
    "scaler = StandardScaler()\n",
    "X_train = scaler.fit_transform(X_train)\n",
    "X_test = scaler.transform(X_test)\n",
    "\n"
   ]
  },
  {
   "cell_type": "code",
   "execution_count": 6,
   "id": "c89790db",
   "metadata": {},
   "outputs": [],
   "source": [
    "input_shape = (X_train.shape[1], 1)\n",
    "input_shape_cnn = (X_train.shape[1], 1)"
   ]
  },
  {
   "cell_type": "code",
   "execution_count": 7,
   "id": "31fd216e",
   "metadata": {},
   "outputs": [],
   "source": [
    "# 4. Hyperparameter tuning\n",
    "learning_rate = 0.001\n",
    "batch_size = 50\n",
    "epochs = 100\n",
    "\n",
    "\n",
    "\n",
    "# 5. Learning rate scheduling\n",
    "lr_scheduler = keras.optimizers.schedules.ExponentialDecay(\n",
    "    initial_learning_rate=learning_rate, decay_steps=10000, decay_rate=0.9\n",
    ")\n",
    "optimizer = keras.optimizers.Adam(learning_rate=lr_scheduler)\n",
    "\n",
    "\n",
    "\n",
    "# 6. Regularization techniques\n",
    "callback_early_stopping = keras.callbacks.EarlyStopping(\n",
    "    monitor='val_loss', patience=10, restore_best_weights=True\n",
    ")\n",
    "callback_checkpoint = keras.callbacks.ModelCheckpoint(\n",
    "    'model_checkpoint.h5', save_best_only=True\n",
    ")\n",
    "\n"
   ]
  },
  {
   "cell_type": "code",
   "execution_count": 8,
   "id": "219e6361",
   "metadata": {},
   "outputs": [],
   "source": [
    "def build_cnn_model(input_shape):\n",
    "    model = Sequential()\n",
    "    model.add(Conv1D(filters=11, kernel_size=3, activation='relu', input_shape=input_shape))\n",
    "    model.add(Conv1D(filters=128, kernel_size=3, activation='relu'))\n",
    "    model.add(MaxPooling1D(pool_size=2))\n",
    "    model.add(Dropout(0.25))\n",
    "    model.add(Conv1D(filters=128, kernel_size=3, activation='relu'))\n",
    "    model.add(Dropout(0.25))\n",
    "    model.add(Flatten())\n",
    "    model.add(Dense(128, activation='relu'))\n",
    "    model.add(BatchNormalization())\n",
    "    model.add(Dropout(0.25))\n",
    "    model.add(Dense(1, activation='sigmoid'))  # Output layer\n",
    "    \n",
    "    # Compile the model\n",
    "    model.compile(loss='binary_crossentropy', optimizer=optimizer, metrics=['accuracy'])\n",
    "    \n",
    "    return model\n"
   ]
  },
  {
   "cell_type": "code",
   "execution_count": 9,
   "id": "110e5ebb",
   "metadata": {},
   "outputs": [
    {
     "name": "stdout",
     "output_type": "stream",
     "text": [
      "Epoch 1/100\n",
      "3/3 [==============================] - 3s 350ms/step - loss: 0.8800 - accuracy: 0.5473 - val_loss: 0.6649 - val_accuracy: 0.7651\n",
      "Epoch 2/100\n",
      "3/3 [==============================] - 0s 85ms/step - loss: 0.6375 - accuracy: 0.6757 - val_loss: 0.6504 - val_accuracy: 0.7919\n",
      "Epoch 3/100\n",
      "3/3 [==============================] - 0s 87ms/step - loss: 0.6502 - accuracy: 0.6959 - val_loss: 0.6424 - val_accuracy: 0.7718\n",
      "Epoch 4/100\n",
      "3/3 [==============================] - 0s 67ms/step - loss: 0.5869 - accuracy: 0.7365 - val_loss: 0.6369 - val_accuracy: 0.7718\n",
      "Epoch 5/100\n",
      "3/3 [==============================] - 0s 70ms/step - loss: 0.6137 - accuracy: 0.7027 - val_loss: 0.6359 - val_accuracy: 0.7718\n",
      "Epoch 6/100\n",
      "3/3 [==============================] - 0s 76ms/step - loss: 0.5400 - accuracy: 0.7162 - val_loss: 0.6369 - val_accuracy: 0.7450\n",
      "Epoch 7/100\n",
      "3/3 [==============================] - 0s 80ms/step - loss: 0.5355 - accuracy: 0.7635 - val_loss: 0.6357 - val_accuracy: 0.7181\n",
      "Epoch 8/100\n",
      "3/3 [==============================] - 0s 37ms/step - loss: 0.5116 - accuracy: 0.7500 - val_loss: 0.6371 - val_accuracy: 0.7047\n",
      "Epoch 9/100\n",
      "3/3 [==============================] - 0s 40ms/step - loss: 0.4922 - accuracy: 0.7500 - val_loss: 0.6394 - val_accuracy: 0.6711\n",
      "Epoch 10/100\n",
      "3/3 [==============================] - 0s 35ms/step - loss: 0.4593 - accuracy: 0.8176 - val_loss: 0.6418 - val_accuracy: 0.6443\n",
      "Epoch 11/100\n",
      "3/3 [==============================] - 0s 37ms/step - loss: 0.4491 - accuracy: 0.7973 - val_loss: 0.6438 - val_accuracy: 0.6443\n",
      "Epoch 12/100\n",
      "3/3 [==============================] - 0s 37ms/step - loss: 0.4364 - accuracy: 0.7905 - val_loss: 0.6467 - val_accuracy: 0.6309\n",
      "Epoch 13/100\n",
      "3/3 [==============================] - 0s 37ms/step - loss: 0.4555 - accuracy: 0.7838 - val_loss: 0.6513 - val_accuracy: 0.6174\n",
      "Epoch 14/100\n",
      "3/3 [==============================] - 0s 35ms/step - loss: 0.4071 - accuracy: 0.7703 - val_loss: 0.6566 - val_accuracy: 0.5772\n",
      "Epoch 15/100\n",
      "3/3 [==============================] - 0s 35ms/step - loss: 0.4243 - accuracy: 0.8176 - val_loss: 0.6557 - val_accuracy: 0.5772\n",
      "Epoch 16/100\n",
      "3/3 [==============================] - 0s 37ms/step - loss: 0.3754 - accuracy: 0.7905 - val_loss: 0.6536 - val_accuracy: 0.5839\n",
      "Epoch 17/100\n",
      "3/3 [==============================] - 0s 50ms/step - loss: 0.3752 - accuracy: 0.8041 - val_loss: 0.6480 - val_accuracy: 0.5973\n"
     ]
    },
    {
     "data": {
      "text/plain": [
       "<keras.callbacks.History at 0x253cf2fbf10>"
      ]
     },
     "execution_count": 9,
     "metadata": {},
     "output_type": "execute_result"
    }
   ],
   "source": [
    "# Train the individual models\n",
    "cnn_model = build_cnn_model(input_shape)\n",
    "cnn_model.fit(X_train, y_train, epochs=epochs, batch_size=batch_size, validation_data=(X_test, y_test),\n",
    "             callbacks=[callback_early_stopping, callback_checkpoint])\n"
   ]
  },
  {
   "cell_type": "code",
   "execution_count": 10,
   "id": "32c1207b",
   "metadata": {},
   "outputs": [
    {
     "name": "stdout",
     "output_type": "stream",
     "text": [
      "5/5 [==============================] - 0s 4ms/step - loss: 0.6357 - accuracy: 0.7181\n",
      "Test Loss: 0.6357\n",
      "Test Accuracy: 0.7181\n"
     ]
    }
   ],
   "source": [
    "# 8. Evaluate the model\n",
    "test_loss, test_accuracy = cnn_model.evaluate(X_test, y_test)\n",
    "print(f'Test Loss: {test_loss:.4f}')\n",
    "print(f'Test Accuracy: {test_accuracy:.4f}')\n"
   ]
  },
  {
   "cell_type": "code",
   "execution_count": 11,
   "id": "ac44e857",
   "metadata": {},
   "outputs": [
    {
     "name": "stdout",
     "output_type": "stream",
     "text": [
      "5/5 [==============================] - 0s 3ms/step\n",
      "Confusion Matrix:\n",
      "[[68  2]\n",
      " [40 39]]\n",
      "\n",
      "Classification Report:\n",
      "              precision    recall  f1-score   support\n",
      "\n",
      "           0       0.63      0.97      0.76        70\n",
      "           1       0.95      0.49      0.65        79\n",
      "\n",
      "    accuracy                           0.72       149\n",
      "   macro avg       0.79      0.73      0.71       149\n",
      "weighted avg       0.80      0.72      0.70       149\n",
      "\n"
     ]
    }
   ],
   "source": [
    "# Make predictions\n",
    "y_pred = cnn_model.predict(X_test)\n",
    "y_pred_classes = np.round(y_pred)\n",
    "\n",
    "\n",
    "# Calculate confusion matrix and classification report\n",
    "from sklearn.metrics import confusion_matrix, classification_report\n",
    "\n",
    "\n",
    "conf_matrix = confusion_matrix(y_test, y_pred_classes)\n",
    "class_report = classification_report(y_test, y_pred_classes)\n",
    "\n",
    "print(\"Confusion Matrix:\")\n",
    "print(conf_matrix)\n",
    "print(\"\\nClassification Report:\")\n",
    "print(class_report)\n"
   ]
  },
  {
   "cell_type": "code",
   "execution_count": 12,
   "id": "97070b75",
   "metadata": {},
   "outputs": [],
   "source": [
    "# 4. Hyperparameter tuning\n",
    "learning_rate = 0.001\n",
    "batch_size = 50\n",
    "epochs = 100\n",
    "\n",
    "\n",
    "\n",
    "# 5. Learning rate scheduling\n",
    "lr_scheduler = keras.optimizers.schedules.ExponentialDecay(\n",
    "    initial_learning_rate=learning_rate, decay_steps=10000, decay_rate=0.9\n",
    ")\n",
    "optimizer = keras.optimizers.Adam(learning_rate=lr_scheduler)\n",
    "\n",
    "\n",
    "\n",
    "# 6. Regularization techniques\n",
    "callback_early_stopping = keras.callbacks.EarlyStopping(\n",
    "    monitor='val_loss', patience=10, restore_best_weights=True\n",
    ")\n",
    "callback_checkpoint = keras.callbacks.ModelCheckpoint(\n",
    "    'model_checkpoint.h5', save_best_only=True\n",
    ")\n",
    "\n"
   ]
  },
  {
   "cell_type": "code",
   "execution_count": 13,
   "id": "e4f0aba3",
   "metadata": {},
   "outputs": [],
   "source": [
    "def build_lstm_model(input_shape):\n",
    "    model = Sequential()\n",
    "    model.add(LSTM(11, return_sequences=True, input_shape=input_shape))\n",
    "    model.add(LSTM(32, return_sequences=True))\n",
    "    model.add(BatchNormalization())\n",
    "    model.add(Dropout(0.2))\n",
    "    model.add(LSTM(64, return_sequences=True))\n",
    "    model.add(LSTM(32))\n",
    "    model.add(Dense(128, activation='relu'))\n",
    "    model.add(Dense(64, activation='relu'))\n",
    "    model.add(Dense(32, activation='relu'))\n",
    "    model.add(Dense(1, activation='sigmoid'))  # Output layer\n",
    "    \n",
    "    # Compile the model\n",
    "    model.compile(loss='binary_crossentropy', optimizer=optimizer, metrics=['accuracy'])\n",
    "    \n",
    "    return model\n"
   ]
  },
  {
   "cell_type": "code",
   "execution_count": 14,
   "id": "54530af6",
   "metadata": {},
   "outputs": [
    {
     "name": "stdout",
     "output_type": "stream",
     "text": [
      "Epoch 1/100\n",
      "3/3 [==============================] - 16s 2s/step - loss: 0.6765 - accuracy: 0.6014 - val_loss: 0.6888 - val_accuracy: 0.4698\n",
      "Epoch 2/100\n",
      "3/3 [==============================] - 0s 138ms/step - loss: 0.6385 - accuracy: 0.7027 - val_loss: 0.6842 - val_accuracy: 0.4698\n",
      "Epoch 3/100\n",
      "3/3 [==============================] - 0s 120ms/step - loss: 0.6043 - accuracy: 0.7162 - val_loss: 0.6787 - val_accuracy: 0.4899\n",
      "Epoch 4/100\n",
      "3/3 [==============================] - 0s 137ms/step - loss: 0.5750 - accuracy: 0.7162 - val_loss: 0.6736 - val_accuracy: 0.4966\n",
      "Epoch 5/100\n",
      "3/3 [==============================] - 0s 138ms/step - loss: 0.5910 - accuracy: 0.7027 - val_loss: 0.6711 - val_accuracy: 0.4966\n",
      "Epoch 6/100\n",
      "3/3 [==============================] - 0s 127ms/step - loss: 0.5788 - accuracy: 0.7095 - val_loss: 0.6666 - val_accuracy: 0.5436\n",
      "Epoch 7/100\n",
      "3/3 [==============================] - 0s 123ms/step - loss: 0.5645 - accuracy: 0.7162 - val_loss: 0.6626 - val_accuracy: 0.5570\n",
      "Epoch 8/100\n",
      "3/3 [==============================] - 0s 134ms/step - loss: 0.5583 - accuracy: 0.7095 - val_loss: 0.6611 - val_accuracy: 0.5570\n",
      "Epoch 9/100\n",
      "3/3 [==============================] - 0s 124ms/step - loss: 0.5520 - accuracy: 0.7230 - val_loss: 0.6581 - val_accuracy: 0.5638\n",
      "Epoch 10/100\n",
      "3/3 [==============================] - 0s 147ms/step - loss: 0.5498 - accuracy: 0.7230 - val_loss: 0.6558 - val_accuracy: 0.5705\n",
      "Epoch 11/100\n",
      "3/3 [==============================] - 0s 128ms/step - loss: 0.5591 - accuracy: 0.7162 - val_loss: 0.6540 - val_accuracy: 0.5705\n",
      "Epoch 12/100\n",
      "3/3 [==============================] - 0s 129ms/step - loss: 0.5589 - accuracy: 0.7027 - val_loss: 0.6559 - val_accuracy: 0.5638\n",
      "Epoch 13/100\n",
      "3/3 [==============================] - 0s 73ms/step - loss: 0.5436 - accuracy: 0.7162 - val_loss: 0.6583 - val_accuracy: 0.5570\n",
      "Epoch 14/100\n",
      "3/3 [==============================] - 0s 69ms/step - loss: 0.5348 - accuracy: 0.7027 - val_loss: 0.6604 - val_accuracy: 0.5570\n",
      "Epoch 15/100\n",
      "3/3 [==============================] - 0s 72ms/step - loss: 0.5395 - accuracy: 0.7162 - val_loss: 0.6627 - val_accuracy: 0.5570\n",
      "Epoch 16/100\n",
      "3/3 [==============================] - 0s 73ms/step - loss: 0.5221 - accuracy: 0.7297 - val_loss: 0.6666 - val_accuracy: 0.5503\n",
      "Epoch 17/100\n",
      "3/3 [==============================] - 0s 73ms/step - loss: 0.5225 - accuracy: 0.7162 - val_loss: 0.6721 - val_accuracy: 0.5369\n",
      "Epoch 18/100\n",
      "3/3 [==============================] - 0s 73ms/step - loss: 0.5144 - accuracy: 0.7297 - val_loss: 0.6782 - val_accuracy: 0.5436\n",
      "Epoch 19/100\n",
      "3/3 [==============================] - 0s 72ms/step - loss: 0.5159 - accuracy: 0.7162 - val_loss: 0.6808 - val_accuracy: 0.5168\n",
      "Epoch 20/100\n",
      "3/3 [==============================] - 0s 71ms/step - loss: 0.4947 - accuracy: 0.7365 - val_loss: 0.6794 - val_accuracy: 0.5168\n",
      "Epoch 21/100\n",
      "3/3 [==============================] - 0s 96ms/step - loss: 0.4975 - accuracy: 0.7703 - val_loss: 0.6854 - val_accuracy: 0.5101\n"
     ]
    },
    {
     "data": {
      "text/plain": [
       "<keras.callbacks.History at 0x253d19de7c0>"
      ]
     },
     "execution_count": 14,
     "metadata": {},
     "output_type": "execute_result"
    }
   ],
   "source": [
    "lstm_model = build_lstm_model(input_shape)\n",
    "lstm_model.fit(X_train, y_train, epochs=epochs, batch_size=batch_size, validation_data=(X_test, y_test),\n",
    "              callbacks=[callback_early_stopping, callback_checkpoint])\n"
   ]
  },
  {
   "cell_type": "code",
   "execution_count": 15,
   "id": "c4a4a1ee",
   "metadata": {},
   "outputs": [
    {
     "name": "stdout",
     "output_type": "stream",
     "text": [
      "5/5 [==============================] - 0s 12ms/step - loss: 0.6540 - accuracy: 0.5705\n",
      "Test Loss: 0.6540\n",
      "Test Accuracy: 0.5705\n"
     ]
    }
   ],
   "source": [
    "# 8. Evaluate the model\n",
    "test_loss, test_accuracy = lstm_model.evaluate(X_test, y_test)\n",
    "print(f'Test Loss: {test_loss:.4f}')\n",
    "print(f'Test Accuracy: {test_accuracy:.4f}')\n"
   ]
  },
  {
   "cell_type": "code",
   "execution_count": 16,
   "id": "3d65e91e",
   "metadata": {},
   "outputs": [
    {
     "name": "stdout",
     "output_type": "stream",
     "text": [
      "5/5 [==============================] - 3s 11ms/step\n",
      "Confusion Matrix:\n",
      "[[68  2]\n",
      " [62 17]]\n",
      "\n",
      "Classification Report:\n",
      "              precision    recall  f1-score   support\n",
      "\n",
      "           0       0.52      0.97      0.68        70\n",
      "           1       0.89      0.22      0.35        79\n",
      "\n",
      "    accuracy                           0.57       149\n",
      "   macro avg       0.71      0.59      0.51       149\n",
      "weighted avg       0.72      0.57      0.50       149\n",
      "\n"
     ]
    }
   ],
   "source": [
    "# Make predictions\n",
    "y_pred = lstm_model.predict(X_test)\n",
    "y_pred_classes = np.round(y_pred)\n",
    "\n",
    "\n",
    "# Calculate confusion matrix and classification report\n",
    "from sklearn.metrics import confusion_matrix, classification_report\n",
    "\n",
    "\n",
    "conf_matrix = confusion_matrix(y_test, y_pred_classes)\n",
    "class_report = classification_report(y_test, y_pred_classes)\n",
    "\n",
    "print(\"Confusion Matrix:\")\n",
    "print(conf_matrix)\n",
    "print(\"\\nClassification Report:\")\n",
    "print(class_report)\n"
   ]
  },
  {
   "cell_type": "code",
   "execution_count": null,
   "id": "90311488",
   "metadata": {},
   "outputs": [],
   "source": []
  },
  {
   "cell_type": "code",
   "execution_count": 17,
   "id": "c0061705",
   "metadata": {},
   "outputs": [],
   "source": [
    "# 4. Hyperparameter tuning\n",
    "learning_rate = 0.001\n",
    "batch_size = 50\n",
    "epochs = 100\n",
    "\n",
    "\n",
    "\n",
    "# 5. Learning rate scheduling\n",
    "lr_scheduler = keras.optimizers.schedules.ExponentialDecay(\n",
    "    initial_learning_rate=learning_rate, decay_steps=10000, decay_rate=0.9\n",
    ")\n",
    "optimizer = keras.optimizers.Adam(learning_rate=lr_scheduler)\n",
    "\n",
    "\n",
    "\n",
    "# 6. Regularization techniques\n",
    "callback_early_stopping = keras.callbacks.EarlyStopping(\n",
    "    monitor='val_loss', patience=10, restore_best_weights=True\n",
    ")\n",
    "callback_checkpoint = keras.callbacks.ModelCheckpoint(\n",
    "    'model_checkpoint.h5', save_best_only=True\n",
    ")\n",
    "\n"
   ]
  },
  {
   "cell_type": "code",
   "execution_count": 18,
   "id": "48310b94",
   "metadata": {},
   "outputs": [],
   "source": [
    "def build_gru_model(input_shape):\n",
    "    model = Sequential()\n",
    "    model.add(GRU(11, return_sequences=True, input_shape=input_shape))\n",
    "    model.add(BatchNormalization())\n",
    "    model.add(Dropout(0.1))\n",
    "    model.add(GRU(32, return_sequences=True))\n",
    "    model.add(BatchNormalization())\n",
    "    model.add(Dropout(0.1))\n",
    "    model.add(GRU(64, return_sequences=True))\n",
    "    model.add(BatchNormalization())\n",
    "    model.add(Dropout(0.1))\n",
    "    model.add(GRU(128, return_sequences=True))\n",
    "    model.add(BatchNormalization())\n",
    "    model.add(Dropout(0.1))\n",
    "    model.add(GRU(128))\n",
    "    model.add(BatchNormalization())\n",
    "    model.add(Dropout(0.1))\n",
    "    model.add(Dense(128, activation='relu'))\n",
    "    model.add(BatchNormalization())\n",
    "    model.add(Dropout(0.1))\n",
    "    model.add(Dense(64, activation='relu'))\n",
    "    model.add(BatchNormalization())\n",
    "    model.add(Dropout(0.1))\n",
    "    model.add(Dense(32, activation='relu'))\n",
    "    model.add(Dense(1, activation='sigmoid'))  # Output layer\n",
    "    \n",
    "    # Compile the model\n",
    "    model.compile(loss='binary_crossentropy', optimizer=optimizer, metrics=['accuracy'])\n",
    "    \n",
    "    return model\n"
   ]
  },
  {
   "cell_type": "code",
   "execution_count": 19,
   "id": "650fabd1",
   "metadata": {},
   "outputs": [
    {
     "name": "stdout",
     "output_type": "stream",
     "text": [
      "Epoch 1/100\n",
      "3/3 [==============================] - 22s 2s/step - loss: 0.7895 - accuracy: 0.4932 - val_loss: 0.6909 - val_accuracy: 0.4698\n",
      "Epoch 2/100\n",
      "3/3 [==============================] - 1s 213ms/step - loss: 0.6255 - accuracy: 0.6216 - val_loss: 0.6883 - val_accuracy: 0.5101\n",
      "Epoch 3/100\n",
      "3/3 [==============================] - 0s 208ms/step - loss: 0.6222 - accuracy: 0.6351 - val_loss: 0.6881 - val_accuracy: 0.4698\n",
      "Epoch 4/100\n",
      "3/3 [==============================] - 0s 120ms/step - loss: 0.5309 - accuracy: 0.7230 - val_loss: 0.6885 - val_accuracy: 0.4698\n",
      "Epoch 5/100\n",
      "3/3 [==============================] - 0s 116ms/step - loss: 0.4800 - accuracy: 0.7973 - val_loss: 0.6899 - val_accuracy: 0.4698\n",
      "Epoch 6/100\n",
      "3/3 [==============================] - 0s 120ms/step - loss: 0.4919 - accuracy: 0.7838 - val_loss: 0.6911 - val_accuracy: 0.4698\n",
      "Epoch 7/100\n",
      "3/3 [==============================] - 0s 159ms/step - loss: 0.4803 - accuracy: 0.8176 - val_loss: 0.6909 - val_accuracy: 0.4698\n",
      "Epoch 8/100\n",
      "3/3 [==============================] - 0s 114ms/step - loss: 0.4491 - accuracy: 0.8243 - val_loss: 0.6903 - val_accuracy: 0.4698\n",
      "Epoch 9/100\n",
      "3/3 [==============================] - 0s 112ms/step - loss: 0.4347 - accuracy: 0.8041 - val_loss: 0.6896 - val_accuracy: 0.4698\n",
      "Epoch 10/100\n",
      "3/3 [==============================] - 0s 121ms/step - loss: 0.4657 - accuracy: 0.7973 - val_loss: 0.6899 - val_accuracy: 0.4698\n",
      "Epoch 11/100\n",
      "3/3 [==============================] - 0s 133ms/step - loss: 0.4148 - accuracy: 0.8176 - val_loss: 0.6895 - val_accuracy: 0.4698\n",
      "Epoch 12/100\n",
      "3/3 [==============================] - 0s 114ms/step - loss: 0.4254 - accuracy: 0.7973 - val_loss: 0.6908 - val_accuracy: 0.4698\n",
      "Epoch 13/100\n",
      "3/3 [==============================] - 0s 146ms/step - loss: 0.3320 - accuracy: 0.8716 - val_loss: 0.6926 - val_accuracy: 0.4698\n"
     ]
    },
    {
     "data": {
      "text/plain": [
       "<keras.callbacks.History at 0x253deb31df0>"
      ]
     },
     "execution_count": 19,
     "metadata": {},
     "output_type": "execute_result"
    }
   ],
   "source": [
    "gru_model = build_gru_model(input_shape)\n",
    "gru_model.fit(X_train, y_train, epochs=epochs, batch_size=batch_size, validation_data=(X_test, y_test),\n",
    "             callbacks=[callback_early_stopping, callback_checkpoint])\n"
   ]
  },
  {
   "cell_type": "code",
   "execution_count": 20,
   "id": "4848f6d9",
   "metadata": {},
   "outputs": [
    {
     "name": "stdout",
     "output_type": "stream",
     "text": [
      "5/5 [==============================] - 0s 18ms/step - loss: 0.6881 - accuracy: 0.4698\n",
      "Test Loss: 0.6881\n",
      "Test Accuracy: 0.4698\n"
     ]
    }
   ],
   "source": [
    "# 8. Evaluate the model\n",
    "test_loss, test_accuracy = gru_model.evaluate(X_test, y_test)\n",
    "print(f'Test Loss: {test_loss:.4f}')\n",
    "print(f'Test Accuracy: {test_accuracy:.4f}')\n"
   ]
  },
  {
   "cell_type": "code",
   "execution_count": 21,
   "id": "8790eecc",
   "metadata": {},
   "outputs": [
    {
     "name": "stdout",
     "output_type": "stream",
     "text": [
      "5/5 [==============================] - 3s 16ms/step\n",
      "Confusion Matrix:\n",
      "[[70  0]\n",
      " [79  0]]\n",
      "\n",
      "Classification Report:\n",
      "              precision    recall  f1-score   support\n",
      "\n",
      "           0       0.47      1.00      0.64        70\n",
      "           1       0.00      0.00      0.00        79\n",
      "\n",
      "    accuracy                           0.47       149\n",
      "   macro avg       0.23      0.50      0.32       149\n",
      "weighted avg       0.22      0.47      0.30       149\n",
      "\n"
     ]
    },
    {
     "name": "stderr",
     "output_type": "stream",
     "text": [
      "C:\\ProgramData\\Anaconda3\\lib\\site-packages\\sklearn\\metrics\\_classification.py:1248: UndefinedMetricWarning: Precision and F-score are ill-defined and being set to 0.0 in labels with no predicted samples. Use `zero_division` parameter to control this behavior.\n",
      "  _warn_prf(average, modifier, msg_start, len(result))\n",
      "C:\\ProgramData\\Anaconda3\\lib\\site-packages\\sklearn\\metrics\\_classification.py:1248: UndefinedMetricWarning: Precision and F-score are ill-defined and being set to 0.0 in labels with no predicted samples. Use `zero_division` parameter to control this behavior.\n",
      "  _warn_prf(average, modifier, msg_start, len(result))\n",
      "C:\\ProgramData\\Anaconda3\\lib\\site-packages\\sklearn\\metrics\\_classification.py:1248: UndefinedMetricWarning: Precision and F-score are ill-defined and being set to 0.0 in labels with no predicted samples. Use `zero_division` parameter to control this behavior.\n",
      "  _warn_prf(average, modifier, msg_start, len(result))\n"
     ]
    }
   ],
   "source": [
    "# Make predictions\n",
    "y_pred = gru_model.predict(X_test)\n",
    "y_pred_classes = np.round(y_pred)\n",
    "\n",
    "\n",
    "# Calculate confusion matrix and classification report\n",
    "from sklearn.metrics import confusion_matrix, classification_report\n",
    "\n",
    "\n",
    "conf_matrix = confusion_matrix(y_test, y_pred_classes)\n",
    "class_report = classification_report(y_test, y_pred_classes)\n",
    "\n",
    "print(\"Confusion Matrix:\")\n",
    "print(conf_matrix)\n",
    "print(\"\\nClassification Report:\")\n",
    "print(class_report)\n"
   ]
  },
  {
   "cell_type": "code",
   "execution_count": 22,
   "id": "c2b5d062",
   "metadata": {},
   "outputs": [
    {
     "name": "stdout",
     "output_type": "stream",
     "text": [
      "5/5 [==============================] - 0s 3ms/step\n",
      "5/5 [==============================] - 0s 10ms/step\n",
      "5/5 [==============================] - 0s 16ms/step\n"
     ]
    }
   ],
   "source": [
    "# Make predictions using individual models\n",
    "cnn_predictions = (cnn_model.predict(X_test) > 0.5).astype(\"int32\")\n",
    "lstm_predictions = (lstm_model.predict(X_test) > 0.5).astype(\"int32\")\n",
    "gru_predictions = (gru_model.predict(X_test) > 0.5).astype(\"int32\")\n",
    "\n"
   ]
  },
  {
   "cell_type": "code",
   "execution_count": 23,
   "id": "e719d338",
   "metadata": {},
   "outputs": [],
   "source": [
    "# Combine predictions using a majority voting ensemble\n",
    "ensemble_predictions = np.mean([cnn_predictions, lstm_predictions, gru_predictions], axis=0) >= 0.5\n",
    "ensemble_predictions = ensemble_predictions.astype(\"int32\")"
   ]
  },
  {
   "cell_type": "code",
   "execution_count": 24,
   "id": "32778d73",
   "metadata": {},
   "outputs": [
    {
     "name": "stdout",
     "output_type": "stream",
     "text": [
      "Ensemble Accuracy: 0.5705\n"
     ]
    }
   ],
   "source": [
    "# Calculate accuracy of the ensemble\n",
    "ensemble_accuracy = accuracy_score(y_test, ensemble_predictions)\n",
    "print(f\"Ensemble Accuracy: {ensemble_accuracy:.4f}\")"
   ]
  },
  {
   "cell_type": "code",
   "execution_count": 25,
   "id": "89c2980a",
   "metadata": {},
   "outputs": [
    {
     "name": "stdout",
     "output_type": "stream",
     "text": [
      "Confusion Matrix:\n",
      "[[70  0]\n",
      " [64 15]]\n",
      "Classification Report:\n",
      "              precision    recall  f1-score   support\n",
      "\n",
      "           0       0.52      1.00      0.69        70\n",
      "           1       1.00      0.19      0.32        79\n",
      "\n",
      "    accuracy                           0.57       149\n",
      "   macro avg       0.76      0.59      0.50       149\n",
      "weighted avg       0.78      0.57      0.49       149\n",
      "\n",
      "Ensemble Accuracy: 0.5705\n"
     ]
    }
   ],
   "source": [
    "# Calculate confusion matrix\n",
    "conf_matrix = confusion_matrix(y_test, ensemble_predictions)\n",
    "\n",
    "print(\"Confusion Matrix:\")\n",
    "print(conf_matrix)\n",
    "\n",
    "# Print classification report\n",
    "class_report = classification_report(y_test, ensemble_predictions)\n",
    "print(\"Classification Report:\")\n",
    "print(class_report)\n",
    "\n",
    "# Evaluate ensemble accuracy\n",
    "ensemble_accuracy = accuracy_score(y_test, ensemble_predictions)\n",
    "print(f\"Ensemble Accuracy: {ensemble_accuracy:.4f}\")\n"
   ]
  },
  {
   "cell_type": "code",
   "execution_count": null,
   "id": "7ed77f71",
   "metadata": {},
   "outputs": [],
   "source": []
  },
  {
   "cell_type": "code",
   "execution_count": 26,
   "id": "5eea718d",
   "metadata": {},
   "outputs": [],
   "source": [
    "import numpy as np\n",
    "from sklearn.model_selection import train_test_split\n",
    "from sklearn.ensemble import RandomForestClassifier, GradientBoostingClassifier, AdaBoostClassifier\n",
    "from sklearn.svm import SVC\n",
    "from sklearn.neighbors import KNeighborsClassifier\n",
    "from sklearn.linear_model import LogisticRegression, RidgeClassifier\n",
    "from sklearn.gaussian_process import GaussianProcessClassifier\n",
    "from sklearn.metrics import confusion_matrix, classification_report, accuracy_score\n",
    "from sklearn.utils import resample\n",
    "from xgboost import XGBClassifier\n",
    "from sklearn.model_selection import RandomizedSearchCV\n",
    "from tensorflow.keras.models import Sequential\n",
    "from tensorflow.keras.layers import Conv1D, MaxPooling1D, Flatten, Dense, Dropout, BatchNormalization\n",
    "from sklearn.model_selection import cross_val_score"
   ]
  },
  {
   "cell_type": "code",
   "execution_count": 27,
   "id": "b5e5ba3a",
   "metadata": {},
   "outputs": [
    {
     "data": {
      "text/plain": [
       "GaussianProcessClassifier(random_state=42)"
      ]
     },
     "execution_count": 27,
     "metadata": {},
     "output_type": "execute_result"
    }
   ],
   "source": [
    "# List of base models\n",
    "\n",
    "lr_model = LogisticRegression(max_iter=1000)\n",
    "lr_model.fit(X_train, y_train)\n",
    "\n",
    "svm_l_model = SVC(kernel=\"linear\")\n",
    "svm_l_model.fit(X_train, y_train)\n",
    "\n",
    "svm_p_model = SVC(kernel=\"poly\")\n",
    "svm_p_model.fit(X_train, y_train)\n",
    "\n",
    "svm_r_model = SVC(kernel=\"rbf\")\n",
    "svm_r_model.fit(X_train, y_train)\n",
    "\n",
    "rf_model = RandomForestClassifier(n_estimators=100, random_state=42)\n",
    "rf_model.fit(X_train, y_train)\n",
    "\n",
    "\n",
    "knn_model = KNeighborsClassifier()\n",
    "knn_model.fit(X_train, y_train)\n",
    "\n",
    "gb_model = GradientBoostingClassifier(n_estimators=100, random_state=42)\n",
    "gb_model.fit(X_train, y_train)\n",
    "\n",
    "ab_model = AdaBoostClassifier(n_estimators=100, random_state=42)\n",
    "ab_model.fit(X_train, y_train)\n",
    "\n",
    "xgb_model = XGBClassifier(n_estimators=100, random_state=42)\n",
    "xgb_model.fit(X_train, y_train)\n",
    "\n",
    "gpc_model = GaussianProcessClassifier(random_state=42)\n",
    "gpc_model.fit(X_train, y_train)"
   ]
  },
  {
   "cell_type": "code",
   "execution_count": 28,
   "id": "88ad7593",
   "metadata": {},
   "outputs": [],
   "source": [
    "lr_predictions = lr_model.predict(X_test)\n",
    "svm_l_predictions = svm_l_model.predict(X_test)\n",
    "svm_p_predictions = svm_p_model.predict(X_test)\n",
    "svm_r_predictions = svm_r_model.predict(X_test)\n",
    "rf_predictions = rf_model.predict(X_test)\n",
    "knn_predictions = knn_model.predict(X_test)\n",
    "gb_predictions = gb_model.predict(X_test)\n",
    "ab_predictions = ab_model.predict(X_test)\n",
    "xgb_predictions = xgb_model.predict(X_test)\n",
    "gpc_predictions = gpc_model.predict(X_test)\n"
   ]
  },
  {
   "cell_type": "code",
   "execution_count": 29,
   "id": "0c16f738",
   "metadata": {},
   "outputs": [],
   "source": [
    "# Combine predictions using ensemble (Voting Classifier)\n",
    "ensemble_predictions = np.column_stack((cnn_predictions, lstm_predictions, gru_predictions, lr_predictions, \n",
    "                                        svm_l_predictions, svm_p_predictions, svm_r_predictions, \n",
    "                                        rf_predictions, knn_predictions, gb_predictions, \n",
    "                                        ab_predictions, xgb_predictions, gpc_predictions))\n"
   ]
  },
  {
   "cell_type": "code",
   "execution_count": 30,
   "id": "8a936999",
   "metadata": {},
   "outputs": [],
   "source": [
    "# Perform majority voting to get the final prediction\n",
    "final_predictions = np.mean(ensemble_predictions, axis=1) >= 0.5\n",
    "final_predictions = final_predictions.astype(\"int32\")"
   ]
  },
  {
   "cell_type": "code",
   "execution_count": 31,
   "id": "09ef36e3",
   "metadata": {},
   "outputs": [
    {
     "name": "stdout",
     "output_type": "stream",
     "text": [
      "Ensemble Accuracy: 0.7919\n"
     ]
    }
   ],
   "source": [
    "# Calculate accuracy of the ensemble\n",
    "ensemble_accuracy = accuracy_score(y_test, final_predictions)\n",
    "print(f\"Ensemble Accuracy: {ensemble_accuracy:.4f}\")"
   ]
  },
  {
   "cell_type": "code",
   "execution_count": 32,
   "id": "774a2919",
   "metadata": {},
   "outputs": [
    {
     "name": "stdout",
     "output_type": "stream",
     "text": [
      "Confusion Matrix:\n",
      "[[64  6]\n",
      " [25 54]]\n",
      "Classification Report:\n",
      "              precision    recall  f1-score   support\n",
      "\n",
      "           0       0.72      0.91      0.81        70\n",
      "           1       0.90      0.68      0.78        79\n",
      "\n",
      "    accuracy                           0.79       149\n",
      "   macro avg       0.81      0.80      0.79       149\n",
      "weighted avg       0.82      0.79      0.79       149\n",
      "\n",
      "Ensemble Accuracy: 0.7919\n"
     ]
    }
   ],
   "source": [
    "# Calculate confusion matrix\n",
    "conf_matrix = confusion_matrix(y_test, final_predictions)\n",
    "\n",
    "print(\"Confusion Matrix:\")\n",
    "print(conf_matrix)\n",
    "\n",
    "# Print classification report\n",
    "class_report = classification_report(y_test, final_predictions)\n",
    "print(\"Classification Report:\")\n",
    "print(class_report)\n",
    "\n",
    "# Evaluate ensemble accuracy\n",
    "ensemble_accuracy = accuracy_score(y_test, final_predictions)\n",
    "print(f\"Ensemble Accuracy: {ensemble_accuracy:.4f}\")"
   ]
  },
  {
   "cell_type": "code",
   "execution_count": null,
   "id": "213d5c53",
   "metadata": {},
   "outputs": [],
   "source": []
  },
  {
   "cell_type": "code",
   "execution_count": null,
   "id": "83b0835f",
   "metadata": {},
   "outputs": [],
   "source": []
  },
  {
   "cell_type": "code",
   "execution_count": null,
   "id": "146dc1e7",
   "metadata": {},
   "outputs": [],
   "source": []
  },
  {
   "cell_type": "code",
   "execution_count": 33,
   "id": "e40c1eca",
   "metadata": {},
   "outputs": [],
   "source": [
    "# Combine predictions using ensemble (Voting Classifier)\n",
    "ensemble_predictions = np.column_stack((cnn_predictions, lstm_predictions, gru_predictions, svm_r_predictions, \n",
    "                                        rf_predictions, knn_predictions, gb_predictions, \n",
    "                                        xgb_predictions, gpc_predictions))\n"
   ]
  },
  {
   "cell_type": "code",
   "execution_count": 34,
   "id": "2b7217a5",
   "metadata": {},
   "outputs": [
    {
     "name": "stdout",
     "output_type": "stream",
     "text": [
      "Ensemble Accuracy: 0.7987\n",
      "Confusion Matrix:\n",
      "[[67  3]\n",
      " [27 52]]\n",
      "Classification Report:\n",
      "              precision    recall  f1-score   support\n",
      "\n",
      "           0       0.71      0.96      0.82        70\n",
      "           1       0.95      0.66      0.78        79\n",
      "\n",
      "    accuracy                           0.80       149\n",
      "   macro avg       0.83      0.81      0.80       149\n",
      "weighted avg       0.84      0.80      0.80       149\n",
      "\n",
      "Ensemble Accuracy: 0.7987\n"
     ]
    }
   ],
   "source": [
    "# Perform majority voting to get the final prediction\n",
    "final_predictions = np.mean(ensemble_predictions, axis=1) >= 0.5\n",
    "final_predictions = final_predictions.astype(\"int32\")\n",
    "\n",
    "# Calculate accuracy of the ensemble\n",
    "ensemble_accuracy = accuracy_score(y_test, final_predictions)\n",
    "print(f\"Ensemble Accuracy: {ensemble_accuracy:.4f}\")\n",
    "\n",
    "# Calculate confusion matrix\n",
    "conf_matrix = confusion_matrix(y_test, final_predictions)\n",
    "\n",
    "print(\"Confusion Matrix:\")\n",
    "print(conf_matrix)\n",
    "\n",
    "# Print classification report\n",
    "class_report = classification_report(y_test, final_predictions)\n",
    "print(\"Classification Report:\")\n",
    "print(class_report)\n",
    "\n",
    "# Evaluate ensemble accuracy\n",
    "ensemble_accuracy = accuracy_score(y_test, final_predictions)\n",
    "print(f\"Ensemble Accuracy: {ensemble_accuracy:.4f}\")"
   ]
  },
  {
   "cell_type": "code",
   "execution_count": null,
   "id": "d5f0055c",
   "metadata": {},
   "outputs": [],
   "source": []
  },
  {
   "cell_type": "code",
   "execution_count": null,
   "id": "ae345eab",
   "metadata": {},
   "outputs": [],
   "source": []
  },
  {
   "cell_type": "code",
   "execution_count": null,
   "id": "c9fdf64d",
   "metadata": {},
   "outputs": [],
   "source": []
  },
  {
   "cell_type": "code",
   "execution_count": null,
   "id": "edc495b8",
   "metadata": {},
   "outputs": [],
   "source": []
  }
 ],
 "metadata": {
  "kernelspec": {
   "display_name": "Python 3 (ipykernel)",
   "language": "python",
   "name": "python3"
  },
  "language_info": {
   "codemirror_mode": {
    "name": "ipython",
    "version": 3
   },
   "file_extension": ".py",
   "mimetype": "text/x-python",
   "name": "python",
   "nbconvert_exporter": "python",
   "pygments_lexer": "ipython3",
   "version": "3.9.7"
  }
 },
 "nbformat": 4,
 "nbformat_minor": 5
}
